{
 "cells": [
  {
   "cell_type": "code",
   "execution_count": 1,
   "metadata": {},
   "outputs": [],
   "source": [
    "import polars as pl"
   ]
  },
  {
   "cell_type": "code",
   "execution_count": 2,
   "metadata": {},
   "outputs": [],
   "source": [
    "df = pl.scan_parquet(\"data/traces.parquet\")"
   ]
  },
  {
   "cell_type": "markdown",
   "metadata": {},
   "source": [
    "### Objective is to construct balance_diffs cryo dataset\n",
    "\n",
    "there are two ways that a transaction can pay the block builder. gas priority fee, or the COINBASE opcode (which sends ETH directly to the block fee recipient). COINBASE is advanced mode, used mainly by MEV searchers. vanilla tx data will only reveal the priority fee, not the COINBASE operations. so you need something like the parity stateDiff traces. these traces will show all of the 1) balances, 2) contract bytecodes, 3) nonces, and 4) storage slots that changed for each transaction - Storm"
   ]
  },
  {
   "cell_type": "code",
   "execution_count": 3,
   "metadata": {},
   "outputs": [
    {
     "data": {
      "text/plain": [
       "19999999"
      ]
     },
     "execution_count": 3,
     "metadata": {},
     "output_type": "execute_result"
    }
   ],
   "source": [
    "df.select(\"block_number\").min().collect().item()"
   ]
  },
  {
   "cell_type": "code",
   "execution_count": 4,
   "metadata": {},
   "outputs": [
    {
     "data": {
      "text/plain": [
       "20025000"
      ]
     },
     "execution_count": 4,
     "metadata": {},
     "output_type": "execute_result"
    }
   ],
   "source": [
    "df.select(\"block_number\").max().collect().item()"
   ]
  },
  {
   "cell_type": "code",
   "execution_count": 5,
   "metadata": {},
   "outputs": [
    {
     "data": {
      "text/html": [
       "<div><style>\n",
       ".dataframe > thead > tr,\n",
       ".dataframe > tbody > tr {\n",
       "  text-align: right;\n",
       "  white-space: pre-wrap;\n",
       "}\n",
       "</style>\n",
       "<small>shape: (10, 21)</small><table border=\"1\" class=\"dataframe\"><thead><tr><th>from</th><th>to</th><th>call_type</th><th>gas</th><th>input</th><th>init</th><th>value</th><th>author</th><th>reward_type</th><th>block_hash</th><th>block_number</th><th>address</th><th>code</th><th>gas_used</th><th>output</th><th>subtraces</th><th>trace_address</th><th>transaction_hash</th><th>transaction_position</th><th>type</th><th>error</th></tr><tr><td>str</td><td>str</td><td>str</td><td>str</td><td>str</td><td>str</td><td>str</td><td>str</td><td>str</td><td>str</td><td>u64</td><td>str</td><td>str</td><td>f64</td><td>str</td><td>u64</td><td>str</td><td>str</td><td>u64</td><td>str</td><td>str</td></tr></thead><tbody><tr><td>&quot;0xae2fc483527b8ef99eb5d9b44875…</td><td>&quot;0x6b75d8af000000e20b7a7ddf000b…</td><td>&quot;call&quot;</td><td>&quot;0x0a5f3d&quot;</td><td>&quot;0x2b669bdc7dfd19b75b023e28bbb8…</td><td>null</td><td>&quot;0xff&quot;</td><td>null</td><td>null</td><td>&quot;0xb390d63aac03bbef75de888d16bd…</td><td>19999999</td><td>null</td><td>null</td><td>475819.0</td><td>&quot;0x&quot;</td><td>6</td><td>&quot;0x0000000000000000&quot;</td><td>&quot;0x5a8f63301f5a9b267c63b4e97090…</td><td>0</td><td>&quot;call&quot;</td><td>null</td></tr><tr><td>&quot;0x6b75d8af000000e20b7a7ddf000b…</td><td>&quot;0x9bdc7dfd19b75b023e28bbb8e197…</td><td>&quot;call&quot;</td><td>&quot;0x07f6ca&quot;</td><td>&quot;0x128acb0800000000000000000000…</td><td>null</td><td>&quot;0x00&quot;</td><td>null</td><td>null</td><td>&quot;0xb390d63aac03bbef75de888d16bd…</td><td>19999999</td><td>null</td><td>null</td><td>49428.0</td><td>&quot;0xffffffffffffffffffffffffffff…</td><td>4</td><td>&quot;0x0100000000000000000000000000…</td><td>&quot;0x5a8f63301f5a9b267c63b4e97090…</td><td>0</td><td>&quot;call&quot;</td><td>null</td></tr><tr><td>&quot;0x9bdc7dfd19b75b023e28bbb8e197…</td><td>&quot;0x52498f8d9791736f1d6398fe95ba…</td><td>&quot;call&quot;</td><td>&quot;0x07812c&quot;</td><td>&quot;0xa9059cbb00000000000000000000…</td><td>null</td><td>&quot;0x00&quot;</td><td>null</td><td>null</td><td>&quot;0xb390d63aac03bbef75de888d16bd…</td><td>19999999</td><td>null</td><td>null</td><td>10772.0</td><td>&quot;0x0000000000000000000000000000…</td><td>1</td><td>&quot;0x0200000000000000000000000000…</td><td>&quot;0x5a8f63301f5a9b267c63b4e97090…</td><td>0</td><td>&quot;call&quot;</td><td>null</td></tr><tr><td>&quot;0x52498f8d9791736f1d6398fe95ba…</td><td>&quot;0x903bfa4323cc7b1acee9965e1966…</td><td>&quot;delegatecall&quot;</td><td>&quot;0x0761ca&quot;</td><td>&quot;0xa9059cbb00000000000000000000…</td><td>null</td><td>&quot;0x00&quot;</td><td>null</td><td>null</td><td>&quot;0xb390d63aac03bbef75de888d16bd…</td><td>19999999</td><td>null</td><td>null</td><td>10376.0</td><td>&quot;0x0000000000000000000000000000…</td><td>0</td><td>&quot;0x0300000000000000000000000000…</td><td>&quot;0x5a8f63301f5a9b267c63b4e97090…</td><td>0</td><td>&quot;call&quot;</td><td>null</td></tr><tr><td>&quot;0x9bdc7dfd19b75b023e28bbb8e197…</td><td>&quot;0xc02aaa39b223fe8d0a0e5c4f27ea…</td><td>&quot;staticcall&quot;</td><td>&quot;0x07545a&quot;</td><td>&quot;0x70a0823100000000000000000000…</td><td>null</td><td>&quot;0x00&quot;</td><td>null</td><td>null</td><td>&quot;0xb390d63aac03bbef75de888d16bd…</td><td>19999999</td><td>null</td><td>null</td><td>534.0</td><td>&quot;0x0000000000000000000000000000…</td><td>0</td><td>&quot;0x0200000000000000000000000000…</td><td>&quot;0x5a8f63301f5a9b267c63b4e97090…</td><td>0</td><td>&quot;call&quot;</td><td>null</td></tr><tr><td>&quot;0x9bdc7dfd19b75b023e28bbb8e197…</td><td>&quot;0x6b75d8af000000e20b7a7ddf000b…</td><td>&quot;call&quot;</td><td>&quot;0x074f46&quot;</td><td>&quot;0xfa461e33ffffffffffffffffffff…</td><td>null</td><td>&quot;0x00&quot;</td><td>null</td><td>null</td><td>&quot;0xb390d63aac03bbef75de888d16bd…</td><td>19999999</td><td>null</td><td>null</td><td>9274.0</td><td>&quot;0x&quot;</td><td>1</td><td>&quot;0x0200000000000000000000000000…</td><td>&quot;0x5a8f63301f5a9b267c63b4e97090…</td><td>0</td><td>&quot;call&quot;</td><td>null</td></tr><tr><td>&quot;0x6b75d8af000000e20b7a7ddf000b…</td><td>&quot;0xc02aaa39b223fe8d0a0e5c4f27ea…</td><td>&quot;call&quot;</td><td>&quot;0x073074&quot;</td><td>&quot;0xa9059cbb00000000000000000000…</td><td>null</td><td>&quot;0x00&quot;</td><td>null</td><td>null</td><td>&quot;0xb390d63aac03bbef75de888d16bd…</td><td>19999999</td><td>null</td><td>null</td><td>8862.0</td><td>&quot;0x0000000000000000000000000000…</td><td>0</td><td>&quot;0x0300000000000000000000000000…</td><td>&quot;0x5a8f63301f5a9b267c63b4e97090…</td><td>0</td><td>&quot;call&quot;</td><td>null</td></tr><tr><td>&quot;0x9bdc7dfd19b75b023e28bbb8e197…</td><td>&quot;0xc02aaa39b223fe8d0a0e5c4f27ea…</td><td>&quot;staticcall&quot;</td><td>&quot;0x072925&quot;</td><td>&quot;0x70a0823100000000000000000000…</td><td>null</td><td>&quot;0x00&quot;</td><td>null</td><td>null</td><td>&quot;0xb390d63aac03bbef75de888d16bd…</td><td>19999999</td><td>null</td><td>null</td><td>534.0</td><td>&quot;0x0000000000000000000000000000…</td><td>0</td><td>&quot;0x0200000000000000000000000000…</td><td>&quot;0x5a8f63301f5a9b267c63b4e97090…</td><td>0</td><td>&quot;call&quot;</td><td>null</td></tr><tr><td>&quot;0x6b75d8af000000e20b7a7ddf000b…</td><td>&quot;0x9bdc7dfd19b75b023e28bbb8e197…</td><td>&quot;call&quot;</td><td>&quot;0x073760&quot;</td><td>&quot;0x3c8a7d8d00000000000000000000…</td><td>null</td><td>&quot;0x00&quot;</td><td>null</td><td>null</td><td>&quot;0xb390d63aac03bbef75de888d16bd…</td><td>19999999</td><td>null</td><td>null</td><td>198965.0</td><td>&quot;0x0000000000000000000000000000…</td><td>5</td><td>&quot;0x0100000000000000010000000000…</td><td>&quot;0x5a8f63301f5a9b267c63b4e97090…</td><td>0</td><td>&quot;call&quot;</td><td>null</td></tr><tr><td>&quot;0x9bdc7dfd19b75b023e28bbb8e197…</td><td>&quot;0x52498f8d9791736f1d6398fe95ba…</td><td>&quot;staticcall&quot;</td><td>&quot;0x046977&quot;</td><td>&quot;0x70a0823100000000000000000000…</td><td>null</td><td>&quot;0x00&quot;</td><td>null</td><td>null</td><td>&quot;0xb390d63aac03bbef75de888d16bd…</td><td>19999999</td><td>null</td><td>null</td><td>1280.0</td><td>&quot;0x0000000000000000000000000000…</td><td>1</td><td>&quot;0x0200000000000000010000000000…</td><td>&quot;0x5a8f63301f5a9b267c63b4e97090…</td><td>0</td><td>&quot;call&quot;</td><td>null</td></tr></tbody></table></div>"
      ],
      "text/plain": [
       "shape: (10, 21)\n",
       "┌─────────────┬─────────────┬─────────────┬──────────┬───┬─────────────┬────────────┬──────┬───────┐\n",
       "│ from        ┆ to          ┆ call_type   ┆ gas      ┆ … ┆ transaction ┆ transactio ┆ type ┆ error │\n",
       "│ ---         ┆ ---         ┆ ---         ┆ ---      ┆   ┆ _hash       ┆ n_position ┆ ---  ┆ ---   │\n",
       "│ str         ┆ str         ┆ str         ┆ str      ┆   ┆ ---         ┆ ---        ┆ str  ┆ str   │\n",
       "│             ┆             ┆             ┆          ┆   ┆ str         ┆ u64        ┆      ┆       │\n",
       "╞═════════════╪═════════════╪═════════════╪══════════╪═══╪═════════════╪════════════╪══════╪═══════╡\n",
       "│ 0xae2fc4835 ┆ 0x6b75d8af0 ┆ call        ┆ 0x0a5f3d ┆ … ┆ 0x5a8f63301 ┆ 0          ┆ call ┆ null  │\n",
       "│ 27b8ef99eb5 ┆ 00000e20b7a ┆             ┆          ┆   ┆ f5a9b267c63 ┆            ┆      ┆       │\n",
       "│ d9b44875…   ┆ 7ddf000b…   ┆             ┆          ┆   ┆ b4e97090…   ┆            ┆      ┆       │\n",
       "│ 0x6b75d8af0 ┆ 0x9bdc7dfd1 ┆ call        ┆ 0x07f6ca ┆ … ┆ 0x5a8f63301 ┆ 0          ┆ call ┆ null  │\n",
       "│ 00000e20b7a ┆ 9b75b023e28 ┆             ┆          ┆   ┆ f5a9b267c63 ┆            ┆      ┆       │\n",
       "│ 7ddf000b…   ┆ bbb8e197…   ┆             ┆          ┆   ┆ b4e97090…   ┆            ┆      ┆       │\n",
       "│ 0x9bdc7dfd1 ┆ 0x52498f8d9 ┆ call        ┆ 0x07812c ┆ … ┆ 0x5a8f63301 ┆ 0          ┆ call ┆ null  │\n",
       "│ 9b75b023e28 ┆ 791736f1d63 ┆             ┆          ┆   ┆ f5a9b267c63 ┆            ┆      ┆       │\n",
       "│ bbb8e197…   ┆ 98fe95ba…   ┆             ┆          ┆   ┆ b4e97090…   ┆            ┆      ┆       │\n",
       "│ 0x52498f8d9 ┆ 0x903bfa432 ┆ delegatecal ┆ 0x0761ca ┆ … ┆ 0x5a8f63301 ┆ 0          ┆ call ┆ null  │\n",
       "│ 791736f1d63 ┆ 3cc7b1acee9 ┆ l           ┆          ┆   ┆ f5a9b267c63 ┆            ┆      ┆       │\n",
       "│ 98fe95ba…   ┆ 965e1966…   ┆             ┆          ┆   ┆ b4e97090…   ┆            ┆      ┆       │\n",
       "│ 0x9bdc7dfd1 ┆ 0xc02aaa39b ┆ staticcall  ┆ 0x07545a ┆ … ┆ 0x5a8f63301 ┆ 0          ┆ call ┆ null  │\n",
       "│ 9b75b023e28 ┆ 223fe8d0a0e ┆             ┆          ┆   ┆ f5a9b267c63 ┆            ┆      ┆       │\n",
       "│ bbb8e197…   ┆ 5c4f27ea…   ┆             ┆          ┆   ┆ b4e97090…   ┆            ┆      ┆       │\n",
       "│ 0x9bdc7dfd1 ┆ 0x6b75d8af0 ┆ call        ┆ 0x074f46 ┆ … ┆ 0x5a8f63301 ┆ 0          ┆ call ┆ null  │\n",
       "│ 9b75b023e28 ┆ 00000e20b7a ┆             ┆          ┆   ┆ f5a9b267c63 ┆            ┆      ┆       │\n",
       "│ bbb8e197…   ┆ 7ddf000b…   ┆             ┆          ┆   ┆ b4e97090…   ┆            ┆      ┆       │\n",
       "│ 0x6b75d8af0 ┆ 0xc02aaa39b ┆ call        ┆ 0x073074 ┆ … ┆ 0x5a8f63301 ┆ 0          ┆ call ┆ null  │\n",
       "│ 00000e20b7a ┆ 223fe8d0a0e ┆             ┆          ┆   ┆ f5a9b267c63 ┆            ┆      ┆       │\n",
       "│ 7ddf000b…   ┆ 5c4f27ea…   ┆             ┆          ┆   ┆ b4e97090…   ┆            ┆      ┆       │\n",
       "│ 0x9bdc7dfd1 ┆ 0xc02aaa39b ┆ staticcall  ┆ 0x072925 ┆ … ┆ 0x5a8f63301 ┆ 0          ┆ call ┆ null  │\n",
       "│ 9b75b023e28 ┆ 223fe8d0a0e ┆             ┆          ┆   ┆ f5a9b267c63 ┆            ┆      ┆       │\n",
       "│ bbb8e197…   ┆ 5c4f27ea…   ┆             ┆          ┆   ┆ b4e97090…   ┆            ┆      ┆       │\n",
       "│ 0x6b75d8af0 ┆ 0x9bdc7dfd1 ┆ call        ┆ 0x073760 ┆ … ┆ 0x5a8f63301 ┆ 0          ┆ call ┆ null  │\n",
       "│ 00000e20b7a ┆ 9b75b023e28 ┆             ┆          ┆   ┆ f5a9b267c63 ┆            ┆      ┆       │\n",
       "│ 7ddf000b…   ┆ bbb8e197…   ┆             ┆          ┆   ┆ b4e97090…   ┆            ┆      ┆       │\n",
       "│ 0x9bdc7dfd1 ┆ 0x52498f8d9 ┆ staticcall  ┆ 0x046977 ┆ … ┆ 0x5a8f63301 ┆ 0          ┆ call ┆ null  │\n",
       "│ 9b75b023e28 ┆ 791736f1d63 ┆             ┆          ┆   ┆ f5a9b267c63 ┆            ┆      ┆       │\n",
       "│ bbb8e197…   ┆ 98fe95ba…   ┆             ┆          ┆   ┆ b4e97090…   ┆            ┆      ┆       │\n",
       "└─────────────┴─────────────┴─────────────┴──────────┴───┴─────────────┴────────────┴──────┴───────┘"
      ]
     },
     "execution_count": 5,
     "metadata": {},
     "output_type": "execute_result"
    }
   ],
   "source": [
    "df.head(10).collect()"
   ]
  },
  {
   "cell_type": "code",
   "execution_count": 6,
   "metadata": {},
   "outputs": [
    {
     "data": {
      "text/html": [
       "<div><style>\n",
       ".dataframe > thead > tr,\n",
       ".dataframe > tbody > tr {\n",
       "  text-align: right;\n",
       "  white-space: pre-wrap;\n",
       "}\n",
       "</style>\n",
       "<small>shape: (0, 21)</small><table border=\"1\" class=\"dataframe\"><thead><tr><th>from</th><th>to</th><th>call_type</th><th>gas</th><th>input</th><th>init</th><th>value</th><th>author</th><th>reward_type</th><th>block_hash</th><th>block_number</th><th>address</th><th>code</th><th>gas_used</th><th>output</th><th>subtraces</th><th>trace_address</th><th>transaction_hash</th><th>transaction_position</th><th>type</th><th>error</th></tr><tr><td>str</td><td>str</td><td>str</td><td>str</td><td>str</td><td>str</td><td>str</td><td>str</td><td>str</td><td>str</td><td>u64</td><td>str</td><td>str</td><td>f64</td><td>str</td><td>u64</td><td>str</td><td>str</td><td>u64</td><td>str</td><td>str</td></tr></thead><tbody></tbody></table></div>"
      ],
      "text/plain": [
       "shape: (0, 21)\n",
       "┌──────┬─────┬───────────┬─────┬───┬──────────────────┬──────────────────────┬──────┬───────┐\n",
       "│ from ┆ to  ┆ call_type ┆ gas ┆ … ┆ transaction_hash ┆ transaction_position ┆ type ┆ error │\n",
       "│ ---  ┆ --- ┆ ---       ┆ --- ┆   ┆ ---              ┆ ---                  ┆ ---  ┆ ---   │\n",
       "│ str  ┆ str ┆ str       ┆ str ┆   ┆ str              ┆ u64                  ┆ str  ┆ str   │\n",
       "╞══════╪═════╪═══════════╪═════╪═══╪══════════════════╪══════════════════════╪══════╪═══════╡\n",
       "└──────┴─────┴───────────┴─────┴───┴──────────────────┴──────────────────────┴──────┴───────┘"
      ]
     },
     "execution_count": 6,
     "metadata": {},
     "output_type": "execute_result"
    }
   ],
   "source": [
    "df.filter(pl.col(\"author\").is_not_null()).collect()"
   ]
  },
  {
   "cell_type": "code",
   "execution_count": null,
   "metadata": {},
   "outputs": [],
   "source": []
  }
 ],
 "metadata": {
  "kernelspec": {
   "display_name": ".venv",
   "language": "python",
   "name": "python3"
  },
  "language_info": {
   "codemirror_mode": {
    "name": "ipython",
    "version": 3
   },
   "file_extension": ".py",
   "mimetype": "text/x-python",
   "name": "python",
   "nbconvert_exporter": "python",
   "pygments_lexer": "ipython3",
   "version": "3.12.2"
  }
 },
 "nbformat": 4,
 "nbformat_minor": 2
}
